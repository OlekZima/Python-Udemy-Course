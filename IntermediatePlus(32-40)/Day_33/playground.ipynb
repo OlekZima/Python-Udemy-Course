{
 "cells": [
  {
   "cell_type": "code",
   "execution_count": 1,
   "metadata": {},
   "outputs": [],
   "source": [
    "import requests"
   ]
  },
  {
   "cell_type": "code",
   "execution_count": 6,
   "metadata": {},
   "outputs": [
    {
     "data": {
      "text/plain": [
       "<Response [200]>"
      ]
     },
     "execution_count": 6,
     "metadata": {},
     "output_type": "execute_result"
    }
   ],
   "source": [
    "response = requests.get(url=\"http://api.open-notify.org/iss-now.json\")\n",
    "\"\"\"\n",
    "1XX: Hold On\n",
    "2XX: Here You Go\n",
    "3XX: Go Away\n",
    "4XX: You Screwed Up\n",
    "    404: You Screwed Up and Stuff Doesn't Exist\n",
    "5XX: I Screwed Up\n",
    "\"\"\"\n",
    "response.raise_for_status()"
   ]
  },
  {
   "cell_type": "code",
   "execution_count": 17,
   "metadata": {},
   "outputs": [
    {
     "data": {
      "text/plain": [
       "('26.2011', '-20.7908')"
      ]
     },
     "execution_count": 17,
     "metadata": {},
     "output_type": "execute_result"
    }
   ],
   "source": [
    "data = response.json()\n",
    "longitude = data[\"iss_position\"][\"longitude\"]\n",
    "latitude = data[\"iss_position\"][\"latitude\"]\n",
    "\n",
    "iss_position = (latitude, longitude)\n",
    "iss_position"
   ]
  }
 ],
 "metadata": {
  "kernelspec": {
   "display_name": ".venv",
   "language": "python",
   "name": "python3"
  },
  "language_info": {
   "codemirror_mode": {
    "name": "ipython",
    "version": 3
   },
   "file_extension": ".py",
   "mimetype": "text/x-python",
   "name": "python",
   "nbconvert_exporter": "python",
   "pygments_lexer": "ipython3",
   "version": "3.11.8"
  }
 },
 "nbformat": 4,
 "nbformat_minor": 2
}
